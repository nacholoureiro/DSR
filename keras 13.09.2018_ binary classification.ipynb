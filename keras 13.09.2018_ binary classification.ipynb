{
 "cells": [
  {
   "cell_type": "code",
   "execution_count": 105,
   "metadata": {},
   "outputs": [],
   "source": [
    "from keras.datasets import imdb\n",
    "(train_data, train_labels), (test_data,test_labels) = imdb.load_data(num_words=10000)"
   ]
  },
  {
   "cell_type": "code",
   "execution_count": 124,
   "metadata": {},
   "outputs": [
    {
     "name": "stdout",
     "output_type": "stream",
     "text": [
      "min: 11\n",
      "max: 2494\n",
      "avg: 238.71364\n",
      "stdv: 176.49367364852034\n",
      "25000\n",
      "25000\n"
     ]
    }
   ],
   "source": [
    "import numpy as np\n",
    "length = [len (x) for x in train_data]#list comprehension\n",
    "print('min:',np.min(length))\n",
    "print('max:',np.max(length))\n",
    "print('avg:',np.mean(length))\n",
    "print('stdv:',np.std(length))\n",
    "print(len(train_labels))\n",
    "print(len(train_data))"
   ]
  },
  {
   "cell_type": "code",
   "execution_count": 107,
   "metadata": {},
   "outputs": [],
   "source": [
    "#print(train_data[0])#each number represents a word. this is natural language processing. the length of the array is the number of words. "
   ]
  },
  {
   "cell_type": "code",
   "execution_count": 108,
   "metadata": {},
   "outputs": [],
   "source": [
    "word_index = imdb.get_word_index() #get the dictionary"
   ]
  },
  {
   "cell_type": "code",
   "execution_count": 109,
   "metadata": {},
   "outputs": [
    {
     "name": "stdout",
     "output_type": "stream",
     "text": [
      "88584\n"
     ]
    }
   ],
   "source": [
    "print(len(word_index))"
   ]
  },
  {
   "cell_type": "code",
   "execution_count": 110,
   "metadata": {},
   "outputs": [],
   "source": [
    "#print(word_index)"
   ]
  },
  {
   "cell_type": "code",
   "execution_count": 111,
   "metadata": {},
   "outputs": [],
   "source": [
    "reverse_word_index = dict(#the word index attributes a word to a number. we want to do the reverse, for reading the reviews\n",
    "    [(value,key) for (key,value) in word_index.items()]\n",
    ")\n",
    "#print(reverse_word_index)\n"
   ]
  },
  {
   "cell_type": "code",
   "execution_count": 112,
   "metadata": {},
   "outputs": [
    {
     "name": "stdout",
     "output_type": "stream",
     "text": [
      "1\n",
      "? this film was just brilliant casting location scenery story direction everyone's really suited the part they played and you could just imagine being there robert ? is an amazing actor and now the same being director ? father came from the same scottish island as myself so i loved the fact there was a real connection with this film the witty remarks throughout the film were great it was just brilliant so much that i bought the film as soon as it was released for ? and would recommend it to everyone to watch and the fly fishing was amazing really cried at the end it was so sad and you know what they say if you cry at a film it must have been good and this definitely was also ? to the two little boy's that played the ? of norman and paul they were just brilliant children are often left out of the ? list i think because the stars that play them all grown up are such a big profile for the whole film but these children are amazing and should be praised for what they have done don't you think the whole story was so lovely because it was true and was someone's life after all that was shared with us all\n"
     ]
    }
   ],
   "source": [
    "review = train_data[0]\n",
    "label = train_labels[0]\n",
    "decoded_review = ' '.join(#' '.join() will join words with blank spaces\n",
    "    [reverse_word_index.get(index - 3,'?') for index in review] #go to the dictionary and get the word associated to the index. \n",
    ")#if the index is not there, write a question mark. 3 is the number of reserved words. varies from dictionary to dictionary.\n",
    "\n",
    "print(label)\n",
    "print(decoded_review)"
   ]
  },
  {
   "cell_type": "code",
   "execution_count": 113,
   "metadata": {},
   "outputs": [
    {
     "name": "stdout",
     "output_type": "stream",
     "text": [
      "[0. 1. 1. ... 0. 0. 0.]\n",
      "(10000,)\n",
      "(25000, 10000)\n"
     ]
    }
   ],
   "source": [
    "def vectorize_sequences(sequences, dimension = 10000):#create bag of words, basically [1,0,0,0,1,1,0]\n",
    "    results = np.zeros((len(sequences),dimension))\n",
    "    \n",
    "    for i, sequence in enumerate(sequences):#goes through the sequence of words (each review) and keeps track of the sequence (that's enumerate)\n",
    "        results[i,sequence] = 1.0#fancy indexing. float because keras is built on tensorflow\n",
    "    return results\n",
    "#x for input\n",
    "x_train = vectorize_sequences(train_data)\n",
    "x_test = vectorize_sequences(test_data)\n",
    "print(x_train[0])\n",
    "print(x_train[0].shape)\n",
    "print(x_train.shape)"
   ]
  },
  {
   "cell_type": "code",
   "execution_count": 114,
   "metadata": {},
   "outputs": [],
   "source": [
    "#y for output\n",
    "y_train = np.asarray(train_labels).astype('float32')#convert labels to float32\n",
    "y_test = np.asarray(test_labels).astype('float32')#no need to do categorical"
   ]
  },
  {
   "cell_type": "code",
   "execution_count": 115,
   "metadata": {},
   "outputs": [
    {
     "name": "stdout",
     "output_type": "stream",
     "text": [
      "_________________________________________________________________\n",
      "Layer (type)                 Output Shape              Param #   \n",
      "=================================================================\n",
      "dense_22 (Dense)             (None, 16)                160016    \n",
      "_________________________________________________________________\n",
      "dense_23 (Dense)             (None, 16)                272       \n",
      "_________________________________________________________________\n",
      "dense_24 (Dense)             (None, 1)                 17        \n",
      "=================================================================\n",
      "Total params: 160,305\n",
      "Trainable params: 160,305\n",
      "Non-trainable params: 0\n",
      "_________________________________________________________________\n"
     ]
    }
   ],
   "source": [
    "from keras import models, layers\n",
    "\n",
    "model = models.Sequential()\n",
    "model.add(layers.Dense(16,\n",
    "                       activation = 'relu',\n",
    "                       input_shape = (10000,)))\n",
    "model.add(layers.Dense(16,activation = 'relu'))\n",
    "model.add(layers.Dense(1, activation = 'sigmoid'))\n",
    "\n",
    "model.summary()#textual representation of NN architecture\n",
    "\n",
    "#from keras import optimizers, losses, metrics####get back to this block later\n",
    "#model.compile(\n",
    "    #optimizer=optimizers.RMSprop(lr = 0.001),\n",
    "    #loss = losses.binary_accuracy,#we call a method, that's why there is no () after it\n",
    "    #metrics=[metrics.binary_accuracy]\n",
    "#)\n",
    "\n",
    "model.compile(\n",
    "    optimizer = 'rmsprop',\n",
    "    loss='binary_crossentropy',\n",
    "    metrics = ['accuracy']\n",
    ")"
   ]
  },
  {
   "cell_type": "code",
   "execution_count": 116,
   "metadata": {},
   "outputs": [],
   "source": [
    "#validate the model before training. a small loss will tell us that our model is good at optimizing. \n",
    "#then we can train the model\n",
    "#split data into 70% train, 10% validation, 20% test\n",
    "\n",
    "#validation loss is very important "
   ]
  },
  {
   "cell_type": "code",
   "execution_count": 117,
   "metadata": {},
   "outputs": [],
   "source": [
    "x_val = x_train[:10000]#divide the data into train and validation\n",
    "partial_x_train = x_train[10000:]\n",
    "y_val = y_train[:10000]\n",
    "partial_y_train = y_train[10000:]"
   ]
  },
  {
   "cell_type": "code",
   "execution_count": 118,
   "metadata": {},
   "outputs": [
    {
     "name": "stdout",
     "output_type": "stream",
     "text": [
      "Train on 15000 samples, validate on 10000 samples\n",
      "Epoch 1/20\n",
      "15000/15000 [==============================] - 3s 220us/step - loss: 0.4976 - acc: 0.7953 - val_loss: 0.3717 - val_acc: 0.8722\n",
      "Epoch 2/20\n",
      "15000/15000 [==============================] - 2s 162us/step - loss: 0.2957 - acc: 0.9046 - val_loss: 0.2990 - val_acc: 0.8910\n",
      "Epoch 3/20\n",
      "15000/15000 [==============================] - 2s 164us/step - loss: 0.2160 - acc: 0.9286 - val_loss: 0.3088 - val_acc: 0.8713\n",
      "Epoch 4/20\n",
      "15000/15000 [==============================] - 2s 163us/step - loss: 0.1742 - acc: 0.9433 - val_loss: 0.2830 - val_acc: 0.8839\n",
      "Epoch 5/20\n",
      "15000/15000 [==============================] - 2s 161us/step - loss: 0.1414 - acc: 0.9543 - val_loss: 0.2863 - val_acc: 0.8851\n",
      "Epoch 6/20\n",
      "15000/15000 [==============================] - 2s 161us/step - loss: 0.1143 - acc: 0.9653 - val_loss: 0.3086 - val_acc: 0.8809\n",
      "Epoch 7/20\n",
      "15000/15000 [==============================] - 2s 161us/step - loss: 0.0970 - acc: 0.9709 - val_loss: 0.3147 - val_acc: 0.8842\n",
      "Epoch 8/20\n",
      "15000/15000 [==============================] - 2s 161us/step - loss: 0.0803 - acc: 0.9764 - val_loss: 0.3868 - val_acc: 0.8659\n",
      "Epoch 9/20\n",
      "15000/15000 [==============================] - 2s 162us/step - loss: 0.0658 - acc: 0.9820 - val_loss: 0.3649 - val_acc: 0.8776\n",
      "Epoch 10/20\n",
      "15000/15000 [==============================] - 2s 162us/step - loss: 0.0553 - acc: 0.9850 - val_loss: 0.3864 - val_acc: 0.8790\n",
      "Epoch 11/20\n",
      "15000/15000 [==============================] - 2s 161us/step - loss: 0.0454 - acc: 0.9885 - val_loss: 0.4181 - val_acc: 0.8764\n",
      "Epoch 12/20\n",
      "15000/15000 [==============================] - 2s 166us/step - loss: 0.0386 - acc: 0.9913 - val_loss: 0.4521 - val_acc: 0.8698\n",
      "Epoch 13/20\n",
      "15000/15000 [==============================] - 2s 163us/step - loss: 0.0297 - acc: 0.9939 - val_loss: 0.4717 - val_acc: 0.8735\n",
      "Epoch 14/20\n",
      "15000/15000 [==============================] - 2s 162us/step - loss: 0.0243 - acc: 0.9949 - val_loss: 0.5026 - val_acc: 0.8719\n",
      "Epoch 15/20\n",
      "15000/15000 [==============================] - 2s 162us/step - loss: 0.0185 - acc: 0.9974 - val_loss: 0.5319 - val_acc: 0.8695\n",
      "Epoch 16/20\n",
      "15000/15000 [==============================] - 2s 162us/step - loss: 0.0154 - acc: 0.9983 - val_loss: 0.5692 - val_acc: 0.8690\n",
      "Epoch 17/20\n",
      "15000/15000 [==============================] - 2s 164us/step - loss: 0.0158 - acc: 0.9971 - val_loss: 0.6010 - val_acc: 0.8685\n",
      "Epoch 18/20\n",
      "15000/15000 [==============================] - 2s 163us/step - loss: 0.0080 - acc: 0.9995 - val_loss: 0.6887 - val_acc: 0.8619\n",
      "Epoch 19/20\n",
      "15000/15000 [==============================] - 2s 162us/step - loss: 0.0099 - acc: 0.9981 - val_loss: 0.6732 - val_acc: 0.8659\n",
      "Epoch 20/20\n",
      "15000/15000 [==============================] - 2s 162us/step - loss: 0.0043 - acc: 0.9998 - val_loss: 0.6896 - val_acc: 0.8653\n"
     ]
    }
   ],
   "source": [
    "history = model.fit(\n",
    "    partial_x_train, partial_y_train,\n",
    "    epochs = 20,\n",
    "    batch_size = 512,\n",
    "    validation_data = (x_val,y_val)\n",
    ")"
   ]
  },
  {
   "cell_type": "code",
   "execution_count": 123,
   "metadata": {},
   "outputs": [
    {
     "data": {
      "image/png": "[encoded data removed]",
      "text/plain": [
       "<Figure size 432x288 with 1 Axes>"
      ]
     },
     "metadata": {},
     "output_type": "display_data"
    },
    {
     "data": {
      "image/png": "[encoded data removed]",
      "text/plain": [
       "<Figure size 432x288 with 1 Axes>"
      ]
     },
     "metadata": {},
     "output_type": "display_data"
    }
   ],
   "source": [
    "import matplotlib.pyplot as plt \n",
    "\n",
    "r = range(1,len(history.history['acc']) + 1)\n",
    "\n",
    "plt.plot(r, history.history['acc'], label = 'acc')\n",
    "plt.plot(r, history.history['val_acc'], label = 'val_acc')\n",
    "plt.legend()\n",
    "plt.show()\n",
    "plt.close()\n",
    "plt.show()\n",
    "\n",
    "r = range(1,len(history.history['loss']) + 1)\n",
    "\n",
    "plt.plot(r, history.history['loss'], label = 'loss')\n",
    "plt.plot(r, history.history['val_loss'], label = 'val_loss')\n",
    "plt.legend()\n",
    "plt.show()\n",
    "plt.close()\n",
    "plt.show()\n",
    "\n",
    "\n"
   ]
  },
  {
   "cell_type": "code",
   "execution_count": 120,
   "metadata": {},
   "outputs": [
    {
     "name": "stdout",
     "output_type": "stream",
     "text": [
      "25000/25000 [==============================] - 3s 128us/step\n"
     ]
    },
    {
     "data": {
      "text/plain": [
       "[0.762366857085228, 0.84952]"
      ]
     },
     "execution_count": 120,
     "metadata": {},
     "output_type": "execute_result"
    }
   ],
   "source": [
    "model.evaluate(x_test, y_test)"
   ]
  },
  {
   "cell_type": "code",
   "execution_count": null,
   "metadata": {},
   "outputs": [],
   "source": [
    "#it's better to run into overfitting first (high training accuracy and low loss) and then compensate"
   ]
  }
 ],
 "metadata": {
  "kernelspec": {
   "display_name": "Python 3",
   "language": "python",
   "name": "python3"
  },
  "language_info": {
   "codemirror_mode": {
    "name": "ipython",
    "version": 3
   },
   "file_extension": ".py",
   "mimetype": "text/x-python",
   "name": "python",
   "nbconvert_exporter": "python",
   "pygments_lexer": "ipython3",
   "version": "3.6.5"
  }
 },
 "nbformat": 4,
 "nbformat_minor": 2
}
