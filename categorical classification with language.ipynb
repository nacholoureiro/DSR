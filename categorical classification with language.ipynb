{
 "cells": [
  {
   "cell_type": "code",
   "execution_count": 221,
   "metadata": {},
   "outputs": [],
   "source": [
    "from keras.datasets import reuters\n",
    "(train_data,train_labels), (test_data, test_labels) = reuters.load_data(num_words=10000)"
   ]
  },
  {
   "cell_type": "code",
   "execution_count": 222,
   "metadata": {},
   "outputs": [
    {
     "name": "stdout",
     "output_type": "stream",
     "text": [
      "min: 13\n",
      "max: 2376\n",
      "avg: 145.5398574927633\n",
      "stdv: 145.81413013409278\n",
      "8982\n",
      "8982\n"
     ]
    }
   ],
   "source": [
    "import numpy as np\n",
    "length = [len (x) for x in train_data]#list comprehension\n",
    "print('min:',np.min(length))\n",
    "print('max:',np.max(length))\n",
    "print('avg:',np.mean(length))\n",
    "print('stdv:',np.std(length))\n",
    "print(len(train_labels))\n",
    "print(len(train_data))"
   ]
  },
  {
   "cell_type": "code",
   "execution_count": 223,
   "metadata": {},
   "outputs": [],
   "source": [
    "word_index = reuters.get_word_index() #get the dictionary"
   ]
  },
  {
   "cell_type": "code",
   "execution_count": 224,
   "metadata": {},
   "outputs": [
    {
     "name": "stdout",
     "output_type": "stream",
     "text": [
      "30979\n"
     ]
    }
   ],
   "source": [
    "print(len(word_index))"
   ]
  },
  {
   "cell_type": "code",
   "execution_count": 238,
   "metadata": {},
   "outputs": [
    {
     "name": "stdout",
     "output_type": "stream",
     "text": [
      "y types: [ 0  1  2  3  4  5  6  7  8  9 10 11 12 13 14 15 16 17 18 19 20 21 22 23\n",
      " 24 25 26 27 28 29 30 31 32 33 34 35 36 37 38 39 40 41 42 43 44 45]\n",
      "size y: 46\n",
      "8982\n"
     ]
    }
   ],
   "source": [
    "import numpy as np\n",
    "a=np.unique(train_labels)\n",
    "print ('y types:',a)\n",
    "print('size y:',len(a))\n",
    "print(len(train_data))"
   ]
  },
  {
   "cell_type": "code",
   "execution_count": 226,
   "metadata": {},
   "outputs": [],
   "source": [
    "reverse_word_index = dict(#the word index attributes a word to a number. we want to do the reverse, for reading the reviews\n",
    "    [(value,key) for (key,value) in word_index.items()]\n",
    ")"
   ]
  },
  {
   "cell_type": "code",
   "execution_count": 227,
   "metadata": {},
   "outputs": [
    {
     "name": "stdout",
     "output_type": "stream",
     "text": [
      "3\n",
      "? ? ? said as a result of its december acquisition of space co it expects earnings per share in 1987 of 1 15 to 1 30 dlrs per share up from 70 cts in 1986 the company said pretax net should rise to nine to 10 mln dlrs from six mln dlrs in 1986 and rental operation revenues to 19 to 22 mln dlrs from 12 5 mln dlrs it said cash flow per share this year should be 2 50 to three dlrs reuter 3\n"
     ]
    }
   ],
   "source": [
    "review = train_data[0]\n",
    "label = train_labels[0]\n",
    "decoded_review = ' '.join(#' '.join() will join words with blank spaces\n",
    "    [reverse_word_index.get(index - 3,'?') for index in review] #go to the dictionary and get the word associated to the index. \n",
    ")#if the index is not there, write a question mark. 3 is the number of reserved words. varies from dictionary to dictionary.\n",
    "\n",
    "print(label)\n",
    "print(decoded_review)"
   ]
  },
  {
   "cell_type": "code",
   "execution_count": 228,
   "metadata": {},
   "outputs": [
    {
     "name": "stdout",
     "output_type": "stream",
     "text": [
      "[0. 1. 1. ... 0. 0. 0.]\n",
      "(10000,)\n",
      "(8982, 10000)\n"
     ]
    }
   ],
   "source": [
    "def vectorize_sequences(sequences, dimension = 10000):#create bag of words, basically [1,0,0,0,1,1,0]\n",
    "    results = np.zeros((len(sequences),dimension))\n",
    "    \n",
    "    for i, sequence in enumerate(sequences):#goes through the sequence of words (each review) and keeps track of the sequence (that's enumerate)\n",
    "        results[i,sequence] = 1.0#fancy indexing. float because keras is built on tensorflow\n",
    "    return results\n",
    "#x for input\n",
    "x_train = vectorize_sequences(train_data)\n",
    "x_test = vectorize_sequences(test_data)\n",
    "print(x_train[0])\n",
    "print(x_train[0].shape)\n",
    "print(x_train.shape)"
   ]
  },
  {
   "cell_type": "code",
   "execution_count": 229,
   "metadata": {},
   "outputs": [
    {
     "name": "stdout",
     "output_type": "stream",
     "text": [
      "8982\n",
      "8982\n"
     ]
    }
   ],
   "source": [
    "from keras.utils import to_categorical\n",
    "#y for output\n",
    "print(len(train_labels))\n",
    "y_train = np.asarray(train_labels).astype('float32')#convert labels to float32\n",
    "#y_train = to_categorical(test_labels)\n",
    "print(len(y_train))\n",
    "y_test = np.asarray(test_labels).astype('float32')#no need to do categorical\n",
    "#y_test = to_categorical(test_labels)"
   ]
  },
  {
   "cell_type": "code",
   "execution_count": null,
   "metadata": {},
   "outputs": [],
   "source": []
  },
  {
   "cell_type": "code",
   "execution_count": 235,
   "metadata": {
    "scrolled": true
   },
   "outputs": [
    {
     "name": "stdout",
     "output_type": "stream",
     "text": [
      "BoW= [0. 1. 1. ... 0. 0. 0.]\n",
      "yval= [0. 0. 0. 1. 0. 0. 0. 0. 0. 0. 0. 0. 0. 0. 0. 0. 0. 0. 0. 0. 0. 0. 0. 0.\n",
      " 0. 0. 0. 0. 0. 0. 0. 0. 0. 0. 0. 0. 0. 0. 0. 0. 0. 0. 0. 0. 0. 0.]\n"
     ]
    }
   ],
   "source": [
    "from keras.utils import to_categorical\n",
    "\n",
    "y_train = to_categorical(train_labels)\n",
    "\n",
    "y_test = to_categorical(test_labels)\n",
    "\n",
    "\n",
    "x_val = x_train[:4000]#divide the data into train and validation\n",
    "\n",
    "partial_x_val = x_train[4000:]\n",
    "\n",
    "\n",
    "y_val = y_train[:4000]\n",
    "#y_val = to_categorical(y_val)\n",
    "partial_y_val = y_train[4000:]\n",
    "#partial_y_val = to_categorical(partial_y_val)\n",
    "\n",
    "print('BoW=',x_val[0])\n",
    "print('yval=',y_val[0])"
   ]
  },
  {
   "cell_type": "code",
   "execution_count": 231,
   "metadata": {},
   "outputs": [
    {
     "name": "stdout",
     "output_type": "stream",
     "text": [
      "_________________________________________________________________\n",
      "Layer (type)                 Output Shape              Param #   \n",
      "=================================================================\n",
      "dense_54 (Dense)             (None, 512)               5120512   \n",
      "_________________________________________________________________\n",
      "dense_55 (Dense)             (None, 46)                23598     \n",
      "=================================================================\n",
      "Total params: 5,144,110\n",
      "Trainable params: 5,144,110\n",
      "Non-trainable params: 0\n",
      "_________________________________________________________________\n"
     ]
    }
   ],
   "source": [
    "#FIRST LAYER\n",
    "from keras import models, layers\n",
    "\n",
    "model = models.Sequential()\n",
    "model.add(layers.Dense(512,#output nodes\n",
    "                       activation='relu',#activation function,, try to always use this function\n",
    "                       input_shape = (10000,)#input nodes, pixel size, 2D. we will end up with a 1D pdf [0,0,...,1,0]\n",
    "))\n",
    "\n",
    "\n",
    "#SUBSEQUENT LAYERS(COPY PASTE THIS PIECE OF CODE). IF IT'S THE FINAL LAYER, SELECT ACTIVATION = SOFTMAX. IF ITS AN INTERMEDIATE LAYER, SELECT RELU\n",
    "model.add(layers.Dense(46,activation='softmax')) #output nodes= 46 because it is a pdf for 46 numbers,, softmax for the output layer\n",
    "#INFO ON THE MODEL\n",
    "model.summary()\n",
    "\n",
    "model.compile(#NEURAL NETWORK NEEDS TO BE COMPILED\n",
    "    optimizer = 'rmsprop', #GOOD OPTIMIZER FOR STARTING. NNs START WITH BIG STEPS AND REDUCE STEP SIZE\n",
    "    loss='categorical_crossentropy', metrics = ['accuracy']#HOW FAR IS THE TRUE RESULT FROM THE PREDICTED RESULT. DISTANCES BETWEEN PROBABILITY DISTRIBUTION\n",
    ")"
   ]
  },
  {
   "cell_type": "code",
   "execution_count": 232,
   "metadata": {},
   "outputs": [
    {
     "name": "stdout",
     "output_type": "stream",
     "text": [
      "Train on 7185 samples, validate on 1797 samples\n",
      "Epoch 1/20\n",
      "7185/7185 [==============================] - 9s 1ms/step - loss: 1.8165 - acc: 0.6249 - val_loss: 1.1656 - val_acc: 0.7418\n",
      "Epoch 2/20\n",
      "7185/7185 [==============================] - 6s 830us/step - loss: 0.7513 - acc: 0.8461 - val_loss: 0.9784 - val_acc: 0.7841\n",
      "Epoch 3/20\n",
      "7185/7185 [==============================] - 6s 815us/step - loss: 0.4625 - acc: 0.9115 - val_loss: 0.8844 - val_acc: 0.8036\n",
      "Epoch 4/20\n",
      "7185/7185 [==============================] - 6s 800us/step - loss: 0.3161 - acc: 0.9350 - val_loss: 0.8595 - val_acc: 0.8125\n",
      "Epoch 5/20\n",
      "7185/7185 [==============================] - 6s 806us/step - loss: 0.2300 - acc: 0.9463 - val_loss: 1.2385 - val_acc: 0.6989\n",
      "Epoch 6/20\n",
      "7185/7185 [==============================] - 6s 816us/step - loss: 0.2011 - acc: 0.9498 - val_loss: 0.9187 - val_acc: 0.7974\n",
      "Epoch 7/20\n",
      "7185/7185 [==============================] - 6s 793us/step - loss: 0.1601 - acc: 0.9581 - val_loss: 0.9467 - val_acc: 0.7991\n",
      "Epoch 8/20\n",
      "7185/7185 [==============================] - 6s 809us/step - loss: 0.1433 - acc: 0.9588 - val_loss: 0.9260 - val_acc: 0.8086\n",
      "Epoch 9/20\n",
      "7185/7185 [==============================] - 6s 817us/step - loss: 0.1357 - acc: 0.9608 - val_loss: 0.9587 - val_acc: 0.8063\n",
      "Epoch 10/20\n",
      "7185/7185 [==============================] - 6s 816us/step - loss: 0.1284 - acc: 0.9602 - val_loss: 0.9959 - val_acc: 0.8058\n",
      "Epoch 11/20\n",
      "7185/7185 [==============================] - 6s 829us/step - loss: 0.1234 - acc: 0.9613 - val_loss: 1.0457 - val_acc: 0.7991\n",
      "Epoch 12/20\n",
      "7185/7185 [==============================] - 6s 817us/step - loss: 0.1201 - acc: 0.9603 - val_loss: 1.1063 - val_acc: 0.7874\n",
      "Epoch 13/20\n",
      "7185/7185 [==============================] - 6s 822us/step - loss: 0.1070 - acc: 0.9609 - val_loss: 1.1274 - val_acc: 0.7880\n",
      "Epoch 14/20\n",
      "7185/7185 [==============================] - 6s 788us/step - loss: 0.1101 - acc: 0.9630 - val_loss: 1.2214 - val_acc: 0.7718\n",
      "Epoch 15/20\n",
      "7185/7185 [==============================] - 6s 804us/step - loss: 0.1118 - acc: 0.9603 - val_loss: 1.1538 - val_acc: 0.7997\n",
      "Epoch 16/20\n",
      "7185/7185 [==============================] - 6s 794us/step - loss: 0.1014 - acc: 0.9610 - val_loss: 1.1781 - val_acc: 0.7908\n",
      "Epoch 17/20\n",
      "7185/7185 [==============================] - 6s 803us/step - loss: 0.1009 - acc: 0.9619 - val_loss: 1.1572 - val_acc: 0.7974\n",
      "Epoch 18/20\n",
      "7185/7185 [==============================] - 5s 762us/step - loss: 0.0987 - acc: 0.9626 - val_loss: 1.2836 - val_acc: 0.7785\n",
      "Epoch 19/20\n",
      "7185/7185 [==============================] - 5s 759us/step - loss: 0.0924 - acc: 0.9624 - val_loss: 1.2022 - val_acc: 0.7913\n",
      "Epoch 20/20\n",
      "7185/7185 [==============================] - 6s 793us/step - loss: 0.0975 - acc: 0.9635 - val_loss: 1.2765 - val_acc: 0.7902\n"
     ]
    }
   ],
   "source": [
    "history = model.fit(\n",
    "    x_train, y_train,\n",
    "    epochs = 20,\n",
    "    batch_size = 512,\n",
    "    validation_split = 0.2\n",
    ")"
   ]
  },
  {
   "cell_type": "code",
   "execution_count": 233,
   "metadata": {
    "scrolled": true
   },
   "outputs": [
    {
     "name": "stdout",
     "output_type": "stream",
     "text": [
      "(4982, 10000)\n"
     ]
    }
   ],
   "source": [
    "print(partial_x_val.shape)\n"
   ]
  },
  {
   "cell_type": "code",
   "execution_count": 234,
   "metadata": {},
   "outputs": [
    {
     "data": {
      "image/png": "[encoded data removed]",
      "text/plain": [
       "<Figure size 432x288 with 1 Axes>"
      ]
     },
     "metadata": {},
     "output_type": "display_data"
    },
    {
     "data": {
      "image/png": "[encoded data removed]",
      "text/plain": [
       "<Figure size 432x288 with 1 Axes>"
      ]
     },
     "metadata": {},
     "output_type": "display_data"
    }
   ],
   "source": [
    "import matplotlib.pyplot as plt \n",
    "\n",
    "r = range(1,len(history.history['acc']) + 1)\n",
    "\n",
    "plt.plot(r, history.history['acc'], label = 'acc')\n",
    "plt.plot(r, history.history['val_acc'], label = 'val_acc')\n",
    "plt.legend()\n",
    "plt.show()\n",
    "plt.close()\n",
    "plt.show()\n",
    "\n",
    "r = range(1,len(history.history['loss']) + 1)\n",
    "\n",
    "plt.plot(r, history.history['loss'], label = 'loss')\n",
    "plt.plot(r, history.history['val_loss'], label = 'val_loss')\n",
    "plt.legend()\n",
    "plt.show()\n",
    "plt.close()\n",
    "plt.show()\n"
   ]
  },
  {
   "cell_type": "code",
   "execution_count": null,
   "metadata": {},
   "outputs": [],
   "source": []
  }
 ],
 "metadata": {
  "kernelspec": {
   "display_name": "Python 3",
   "language": "python",
   "name": "python3"
  },
  "language_info": {
   "codemirror_mode": {
    "name": "ipython",
    "version": 3
   },
   "file_extension": ".py",
   "mimetype": "text/x-python",
   "name": "python",
   "nbconvert_exporter": "python",
   "pygments_lexer": "ipython3",
   "version": "3.6.5"
  }
 },
 "nbformat": 4,
 "nbformat_minor": 2
}
