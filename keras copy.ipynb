{
 "cells": [
  {
   "cell_type": "code",
   "execution_count": 2,
   "metadata": {},
   "outputs": [
    {
     "name": "stdout",
     "output_type": "stream",
     "text": [
      "Collecting keras\n",
      "  Using cached https://files.pythonhosted.org/packages/34/7d/b1dedde8af99bd82f20ed7e9697aac0597de3049b1f786aa2aac3b9bd4da/Keras-2.2.2-py2.py3-none-any.whl\n",
      "Requirement already satisfied: pyyaml in c:\\users\\nacho\\anaconda3\\lib\\site-packages (from keras) (3.12)\n",
      "Requirement already satisfied: six>=1.9.0 in c:\\users\\nacho\\anaconda3\\lib\\site-packages (from keras) (1.11.0)\n",
      "Requirement already satisfied: scipy>=0.14 in c:\\users\\nacho\\anaconda3\\lib\\site-packages (from keras) (1.1.0)\n",
      "Requirement already satisfied: h5py in c:\\users\\nacho\\anaconda3\\lib\\site-packages (from keras) (2.7.1)\n",
      "Requirement already satisfied: keras-preprocessing==1.0.2 in c:\\users\\nacho\\anaconda3\\lib\\site-packages (from keras) (1.0.2)\n",
      "Requirement already satisfied: keras-applications==1.0.4 in c:\\users\\nacho\\anaconda3\\lib\\site-packages (from keras) (1.0.4)\n",
      "Requirement already satisfied: numpy>=1.9.1 in c:\\users\\nacho\\anaconda3\\lib\\site-packages (from keras) (1.14.3)\n",
      "Installing collected packages: keras\n",
      "Successfully installed keras-2.2.2\n"
     ]
    }
   ],
   "source": [
    "!pip install keras"
   ]
  },
  {
   "cell_type": "code",
   "execution_count": 65,
   "metadata": {},
   "outputs": [
    {
     "name": "stdout",
     "output_type": "stream",
     "text": [
      "2.2.2\n"
     ]
    }
   ],
   "source": [
    "import keras\n",
    "print(keras.__version__)"
   ]
  },
  {
   "cell_type": "markdown",
   "metadata": {},
   "source": [
    "from keras.datasets import mnist"
   ]
  },
  {
   "cell_type": "code",
   "execution_count": 1,
   "metadata": {},
   "outputs": [
    {
     "name": "stderr",
     "output_type": "stream",
     "text": [
      "C:\\Users\\Nacho\\Anaconda3\\lib\\site-packages\\h5py\\__init__.py:36: FutureWarning: Conversion of the second argument of issubdtype from `float` to `np.floating` is deprecated. In future, it will be treated as `np.float64 == np.dtype(float).type`.\n",
      "  from ._conv import register_converters as _register_converters\n",
      "Using TensorFlow backend.\n"
     ]
    }
   ],
   "source": [
    "from keras.datasets import fashion_mnist"
   ]
  },
  {
   "cell_type": "code",
   "execution_count": 2,
   "metadata": {},
   "outputs": [],
   "source": [
    "from keras import models, layers"
   ]
  },
  {
   "cell_type": "code",
   "execution_count": 3,
   "metadata": {},
   "outputs": [
    {
     "name": "stdout",
     "output_type": "stream",
     "text": [
      "Downloading data from http://fashion-mnist.s3-website.eu-central-1.amazonaws.com/train-labels-idx1-ubyte.gz\n",
      "32768/29515 [=================================] - 0s 2us/step\n",
      "Downloading data from http://fashion-mnist.s3-website.eu-central-1.amazonaws.com/train-images-idx3-ubyte.gz\n",
      "26427392/26421880 [==============================] - 26s 1us/step\n",
      "Downloading data from http://fashion-mnist.s3-website.eu-central-1.amazonaws.com/t10k-labels-idx1-ubyte.gz\n",
      "8192/5148 [===============================================] - 0s 0us/step\n",
      "Downloading data from http://fashion-mnist.s3-website.eu-central-1.amazonaws.com/t10k-images-idx3-ubyte.gz\n",
      "4423680/4422102 [==============================] - 4s 1us/step\n"
     ]
    }
   ],
   "source": [
    "(train_images, train_labels), (test_images, test_labels) = fashion_mnist.load_data()"
   ]
  },
  {
   "cell_type": "code",
   "execution_count": 4,
   "metadata": {},
   "outputs": [],
   "source": [
    "model = models.Sequential() #create model for the multiple layers"
   ]
  },
  {
   "cell_type": "code",
   "execution_count": 44,
   "metadata": {},
   "outputs": [
    {
     "name": "stdout",
     "output_type": "stream",
     "text": [
      "_________________________________________________________________\n",
      "Layer (type)                 Output Shape              Param #   \n",
      "=================================================================\n",
      "dense_1 (Dense)              (None, 512)               401920    \n",
      "_________________________________________________________________\n",
      "dense_2 (Dense)              (None, 100)               51300     \n",
      "_________________________________________________________________\n",
      "dense_3 (Dense)              (None, 50)                5050      \n",
      "_________________________________________________________________\n",
      "dense_4 (Dense)              (None, 10)                510       \n",
      "_________________________________________________________________\n",
      "dense_5 (Dense)              (None, 512)               5632      \n",
      "_________________________________________________________________\n",
      "dense_6 (Dense)              (None, 100)               51300     \n",
      "_________________________________________________________________\n",
      "dense_7 (Dense)              (None, 50)                5050      \n",
      "_________________________________________________________________\n",
      "dense_8 (Dense)              (None, 10)                510       \n",
      "_________________________________________________________________\n",
      "dense_9 (Dense)              (None, 512)               5632      \n",
      "_________________________________________________________________\n",
      "dense_10 (Dense)             (None, 10)                5130      \n",
      "_________________________________________________________________\n",
      "dense_11 (Dense)             (None, 512)               5632      \n",
      "_________________________________________________________________\n",
      "dense_12 (Dense)             (None, 100)               51300     \n",
      "_________________________________________________________________\n",
      "dense_13 (Dense)             (None, 50)                5050      \n",
      "_________________________________________________________________\n",
      "dense_14 (Dense)             (None, 10)                510       \n",
      "_________________________________________________________________\n",
      "dense_15 (Dense)             (None, 512)               5632      \n",
      "_________________________________________________________________\n",
      "dense_16 (Dense)             (None, 10)                5130      \n",
      "_________________________________________________________________\n",
      "dense_17 (Dense)             (None, 512)               5632      \n",
      "_________________________________________________________________\n",
      "dense_18 (Dense)             (None, 10)                5130      \n",
      "_________________________________________________________________\n",
      "dense_19 (Dense)             (None, 512)               5632      \n",
      "_________________________________________________________________\n",
      "dense_20 (Dense)             (None, 10)                5130      \n",
      "=================================================================\n",
      "Total params: 616,050\n",
      "Trainable params: 616,050\n",
      "Non-trainable params: 0\n",
      "_________________________________________________________________\n"
     ]
    },
    {
     "name": "stderr",
     "output_type": "stream",
     "text": [
      "C:\\Users\\Nacho\\Anaconda3\\lib\\site-packages\\keras\\engine\\training.py:479: UserWarning: Discrepancy between trainable weights and collected trainable weights, did you set `model.trainable` without calling `model.compile` after ?\n",
      "  'Discrepancy between trainable weights and collected trainable'\n"
     ]
    }
   ],
   "source": [
    "#FIRST LAYER\n",
    "model.add(layers.Dense(512,#output nodes\n",
    "                       activation='relu',#activation function,, try to always use this function\n",
    "                       input_shape = (28*28,)#input nodes (FIXED)\n",
    "))\n",
    "#SUBSEQUENT LAYERS(COPY PASTE THIS PIECE OF CODE). IF IT'S THE FINAL LAYER, SELECT ACTIVATION = SOFTMAX. IF ITS AN INTERMEDIATE LAYER, SELECT RELU\n",
    "\n",
    "model.add(layers.Dense(10,activation='softmax'))#output nodes= 10,, softmax for the output layer\n",
    "#INFO ON THE MODEL\n",
    "model.summary()\n",
    "\n",
    "model.compile(#NEURAL NETWORK NEEDS TO BE COMPILED\n",
    "    optimizer = 'rmsprop', #GOOD OPTIMIZER FOR STARTING. NNs START WITH BIG STEPS AND REDUCE STEP SIZE\n",
    "    loss='categorical_crossentropy',\n",
    "    metrics = ['accuracy']#HOW FAR IS THE RESULT FROM THE PREDICTED RESULT. DISTANCES BETWEEN PROBABILITY DISTRIBUTION\n",
    ")"
   ]
  },
  {
   "cell_type": "code",
   "execution_count": 47,
   "metadata": {},
   "outputs": [
    {
     "name": "stdout",
     "output_type": "stream",
     "text": [
      "Train:  (60000, 28, 28)\n",
      "Test:  (10000, 28, 28)\n"
     ]
    },
    {
     "data": {
      "image/png": "[encoded data removed]",
      "text/plain": [
       "<Figure size 432x288 with 1 Axes>"
      ]
     },
     "metadata": {},
     "output_type": "display_data"
    },
    {
     "name": "stdout",
     "output_type": "stream",
     "text": [
      "Before: 9\n",
      "After: [0. 0. 0. 0. 0. 0. 0. 0. 0. 1.]\n"
     ]
    }
   ],
   "source": [
    "import numpy as np\n",
    "import matplotlib.pyplot as plt\n",
    "\n",
    "%matplotlib inline\n",
    "\n",
    "(train_images, train_labels), (test_images, test_labels) = fashion_mnist.load_data()\n",
    "print('Train: ', train_images.shape)\n",
    "print('Test: ', test_images.shape)\n",
    "\n",
    "#print(train_images[1])\n",
    "\n",
    "plt.imshow(train_images[50],cmap='gray')\n",
    "plt.title(str(train_labels[50]))\n",
    "plt.show()\n",
    "\n",
    "train_images = train_images.reshape((60000, 28*28))#proper shape\n",
    "train_images = train_images.astype('float32')/255.0#normalization\n",
    "\n",
    "test_images = test_images.reshape((10000, 28*28))#proper shape\n",
    "test_images = test_images.astype('float32')/255.0#normalization\n",
    "\n",
    "from keras.utils import to_categorical\n",
    "\n",
    "print('Before:', train_labels[0])\n",
    "train_labels = to_categorical(train_labels)#category = probability \n",
    "test_labels = to_categorical(test_labels)\n",
    "print('After:', train_labels[0])"
   ]
  },
  {
   "cell_type": "code",
   "execution_count": null,
   "metadata": {},
   "outputs": [],
   "source": [
    "#model.evaluate(train_images, train_labels)#IT DOES NOTHING BEFORE TRAINING!!!! this function gives a loss (first number) and an accuracy (second number). "
   ]
  },
  {
   "cell_type": "code",
   "execution_count": 33,
   "metadata": {},
   "outputs": [],
   "source": [
    "#import numpy as np\n",
    "#print(model.predict(train_images[0:1]))\n",
    "#print(np.max(model.predict(train_images[0:1]))) #predicts output with one cycle\n",
    "#print(np.argmax(model.predict(train_images[0:1])))\n",
    "#print(train_labels[0])"
   ]
  },
  {
   "cell_type": "code",
   "execution_count": 48,
   "metadata": {
    "scrolled": true
   },
   "outputs": [
    {
     "name": "stdout",
     "output_type": "stream",
     "text": [
      "Epoch 1/8\n",
      "60000/60000 [==============================] - 9s 149us/step - loss: 1.2799 - acc: 0.5011\n",
      "Epoch 2/8\n",
      "60000/60000 [==============================] - 8s 134us/step - loss: 0.7504 - acc: 0.7526\n",
      "Epoch 3/8\n",
      "60000/60000 [==============================] - 8s 134us/step - loss: 0.5887 - acc: 0.8356\n",
      "Epoch 4/8\n",
      "60000/60000 [==============================] - 8s 134us/step - loss: 0.5473 - acc: 0.8575\n",
      "Epoch 5/8\n",
      "60000/60000 [==============================] - 8s 136us/step - loss: 0.5062 - acc: 0.8522 0s - loss: 0.5059 - acc: 0.8\n",
      "Epoch 6/8\n",
      "60000/60000 [==============================] - 8s 136us/step - loss: 0.5513 - acc: 0.8137\n",
      "Epoch 7/8\n",
      "60000/60000 [==============================] - 8s 137us/step - loss: 0.4117 - acc: 0.8771\n",
      "Epoch 8/8\n",
      "60000/60000 [==============================] - 8s 137us/step - loss: 0.3670 - acc: 0.8843\n"
     ]
    }
   ],
   "source": [
    "history = model.fit(train_images, train_labels, #NOW WE TRAIN THE NEURAL NETWORK\n",
    "          epochs = 8, \n",
    "          batch_size = 128)"
   ]
  },
  {
   "cell_type": "code",
   "execution_count": 46,
   "metadata": {},
   "outputs": [
    {
     "data": {
      "image/png": "[encoded data removed]",
      "text/plain": [
       "<Figure size 432x288 with 1 Axes>"
      ]
     },
     "metadata": {},
     "output_type": "display_data"
    },
    {
     "data": {
      "image/png": "[encoded data removed]",
      "text/plain": [
       "<Figure size 432x288 with 1 Axes>"
      ]
     },
     "metadata": {},
     "output_type": "display_data"
    }
   ],
   "source": [
    "#(history.history)\n",
    "plt.plot(history.history['loss'],label = 'loss')\n",
    "plt.legend()\n",
    "plt.show()\n",
    "plt.close()\n",
    "\n",
    "plt.plot(history.history['acc'], label = 'acc')\n",
    "plt.legend()\n",
    "plt.show()\n",
    "plt.close()"
   ]
  },
  {
   "cell_type": "code",
   "execution_count": 86,
   "metadata": {},
   "outputs": [
    {
     "name": "stdout",
     "output_type": "stream",
     "text": [
      "60000/60000 [==============================] - 3s 55us/step\n",
      "0.025014872842864133 0.9927\n"
     ]
    }
   ],
   "source": [
    "test_loss, test_acc = model.evaluate(train_images, train_labels)#TEST THE NEURAL NETWORK\n",
    "print(test_loss, test_acc)"
   ]
  },
  {
   "cell_type": "code",
   "execution_count": null,
   "metadata": {},
   "outputs": [],
   "source": []
  }
 ],
 "metadata": {
  "kernelspec": {
   "display_name": "Python 3",
   "language": "python",
   "name": "python3"
  },
  "language_info": {
   "codemirror_mode": {
    "name": "ipython",
    "version": 3
   },
   "file_extension": ".py",
   "mimetype": "text/x-python",
   "name": "python",
   "nbconvert_exporter": "python",
   "pygments_lexer": "ipython3",
   "version": "3.6.5"
  }
 },
 "nbformat": 4,
 "nbformat_minor": 2
}
